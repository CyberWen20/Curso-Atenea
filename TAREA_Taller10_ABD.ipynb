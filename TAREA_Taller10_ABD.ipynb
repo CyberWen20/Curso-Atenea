{
  "nbformat": 4,
  "nbformat_minor": 0,
  "metadata": {
    "colab": {
      "provenance": [],
      "include_colab_link": true
    },
    "kernelspec": {
      "name": "python3",
      "display_name": "Python 3"
    },
    "language_info": {
      "name": "python"
    }
  },
  "cells": [
    {
      "cell_type": "markdown",
      "metadata": {
        "id": "view-in-github",
        "colab_type": "text"
      },
      "source": [
        "<a href=\"https://colab.research.google.com/github/CyberWen20/Curso-Atenea/blob/Talleres/TAREA_Taller10_ABD.ipynb\" target=\"_parent\"><img src=\"https://colab.research.google.com/assets/colab-badge.svg\" alt=\"Open In Colab\"/></a>"
      ]
    },
    {
      "cell_type": "markdown",
      "source": [
        "**Taller 10: Dataframes con Pandas**\n",
        "\n",
        "**Curso Analisis de Datos**\n",
        "\n",
        "**Grupo 02**\n",
        "\n",
        "**Nombre** Wendy Dayana Perez\n",
        "\n",
        "**Cedula** 1000693996\n"
      ],
      "metadata": {
        "id": "BOW7HvKFfnQf"
      }
    },
    {
      "cell_type": "code",
      "source": [
        "#Cargue el dataset disponible en https://www.datos.gov.co/Econom-a-y/Tasa-de-Cambio-Representativa-del-Mercado\n",
        "!pip install sodapy"
      ],
      "metadata": {
        "colab": {
          "base_uri": "https://localhost:8080/"
        },
        "id": "-2WvcPpWf7Mn",
        "outputId": "15ce2061-8a0c-4b0f-bbd8-6ece1807e195"
      },
      "execution_count": null,
      "outputs": [
        {
          "output_type": "stream",
          "name": "stdout",
          "text": [
            "Collecting sodapy\n",
            "  Downloading sodapy-2.2.0-py2.py3-none-any.whl (15 kB)\n",
            "Collecting requests>=2.28.1 (from sodapy)\n",
            "  Downloading requests-2.31.0-py3-none-any.whl (62 kB)\n",
            "\u001b[2K     \u001b[90m━━━━━━━━━━━━━━━━━━━━━━━━━━━━━━━━━━━━━━━━\u001b[0m \u001b[32m62.6/62.6 kB\u001b[0m \u001b[31m2.4 MB/s\u001b[0m eta \u001b[36m0:00:00\u001b[0m\n",
            "\u001b[?25hRequirement already satisfied: charset-normalizer<4,>=2 in /usr/local/lib/python3.10/dist-packages (from requests>=2.28.1->sodapy) (2.0.12)\n",
            "Requirement already satisfied: idna<4,>=2.5 in /usr/local/lib/python3.10/dist-packages (from requests>=2.28.1->sodapy) (3.4)\n",
            "Requirement already satisfied: urllib3<3,>=1.21.1 in /usr/local/lib/python3.10/dist-packages (from requests>=2.28.1->sodapy) (1.26.16)\n",
            "Requirement already satisfied: certifi>=2017.4.17 in /usr/local/lib/python3.10/dist-packages (from requests>=2.28.1->sodapy) (2023.5.7)\n",
            "Installing collected packages: requests, sodapy\n",
            "  Attempting uninstall: requests\n",
            "    Found existing installation: requests 2.27.1\n",
            "    Uninstalling requests-2.27.1:\n",
            "      Successfully uninstalled requests-2.27.1\n",
            "\u001b[31mERROR: pip's dependency resolver does not currently take into account all the packages that are installed. This behaviour is the source of the following dependency conflicts.\n",
            "google-colab 1.0.0 requires requests==2.27.1, but you have requests 2.31.0 which is incompatible.\u001b[0m\u001b[31m\n",
            "\u001b[0mSuccessfully installed requests-2.31.0 sodapy-2.2.0\n"
          ]
        }
      ]
    },
    {
      "cell_type": "code",
      "source": [
        "!pip install pandas"
      ],
      "metadata": {
        "colab": {
          "base_uri": "https://localhost:8080/"
        },
        "id": "OjJiyBbKlKqH",
        "outputId": "0b1c2be4-5f14-48b5-bfbb-38ff9984ff2f"
      },
      "execution_count": null,
      "outputs": [
        {
          "output_type": "stream",
          "name": "stdout",
          "text": [
            "Looking in indexes: https://pypi.org/simple, https://us-python.pkg.dev/colab-wheels/public/simple/\n",
            "Requirement already satisfied: pandas in /usr/local/lib/python3.10/dist-packages (1.5.3)\n",
            "Requirement already satisfied: python-dateutil>=2.8.1 in /usr/local/lib/python3.10/dist-packages (from pandas) (2.8.2)\n",
            "Requirement already satisfied: pytz>=2020.1 in /usr/local/lib/python3.10/dist-packages (from pandas) (2022.7.1)\n",
            "Requirement already satisfied: numpy>=1.21.0 in /usr/local/lib/python3.10/dist-packages (from pandas) (1.22.4)\n",
            "Requirement already satisfied: six>=1.5 in /usr/local/lib/python3.10/dist-packages (from python-dateutil>=2.8.1->pandas) (1.16.0)\n"
          ]
        }
      ]
    },
    {
      "cell_type": "code",
      "source": [
        "!pip install numpy"
      ],
      "metadata": {
        "colab": {
          "base_uri": "https://localhost:8080/"
        },
        "id": "VUjYtmjalPdK",
        "outputId": "6b55fca0-6a38-4f7b-afe4-096becf1d12f"
      },
      "execution_count": null,
      "outputs": [
        {
          "output_type": "stream",
          "name": "stdout",
          "text": [
            "Looking in indexes: https://pypi.org/simple, https://us-python.pkg.dev/colab-wheels/public/simple/\n",
            "Requirement already satisfied: numpy in /usr/local/lib/python3.10/dist-packages (1.22.4)\n"
          ]
        }
      ]
    },
    {
      "cell_type": "code",
      "source": [
        "import pandas as pd\n",
        "import numpy as np\n",
        "import matplotlib.pyplot as plt\n",
        "from sodapy import Socrata\n",
        "cliente=Socrata(\"www.datos.gov.co\",None)\n",
        "result=cliente.get(\"32sa-8pi3\")\n",
        "dataf=pd.DataFrame.from_records(result)\n",
        "dataf.head"
      ],
      "metadata": {
        "colab": {
          "base_uri": "https://localhost:8080/"
        },
        "id": "TUrLt-G9lSq1",
        "outputId": "46c619a1-168d-4535-c706-5da10a0e9ed5"
      },
      "execution_count": null,
      "outputs": [
        {
          "output_type": "stream",
          "name": "stderr",
          "text": [
            "WARNING:root:Requests made without an app_token will be subject to strict throttling limits.\n"
          ]
        },
        {
          "output_type": "execute_result",
          "data": {
            "text/plain": [
              "<bound method NDFrame.head of        valor unidad            vigenciadesde            vigenciahasta\n",
              "0    4761.64    COP  2022-12-22T00:00:00.000  2022-12-22T00:00:00.000\n",
              "1    4781.28    COP  2022-12-20T00:00:00.000  2022-12-20T00:00:00.000\n",
              "2    4802.48    COP  2022-12-17T00:00:00.000  2022-12-19T00:00:00.000\n",
              "3    4836.24    COP  2022-12-13T00:00:00.000  2022-12-13T00:00:00.000\n",
              "4    4815.99    COP  2022-12-10T00:00:00.000  2022-12-12T00:00:00.000\n",
              "..       ...    ...                      ...                      ...\n",
              "995  1978.63    COP  2014-03-26T00:00:00.000  2014-03-26T00:00:00.000\n",
              "996  1993.85    COP  2014-03-22T00:00:00.000  2014-03-25T00:00:00.000\n",
              "997   1998.6    COP  2014-03-21T00:00:00.000  2014-03-21T00:00:00.000\n",
              "998  2017.38    COP  2014-03-20T00:00:00.000  2014-03-20T00:00:00.000\n",
              "999  2034.86    COP  2014-03-19T00:00:00.000  2014-03-19T00:00:00.000\n",
              "\n",
              "[1000 rows x 4 columns]>"
            ]
          },
          "metadata": {},
          "execution_count": 5
        }
      ]
    },
    {
      "cell_type": "code",
      "source": [
        "dataf.describe()"
      ],
      "metadata": {
        "colab": {
          "base_uri": "https://localhost:8080/",
          "height": 175
        },
        "id": "uoXz-MI-o1UU",
        "outputId": "4213fdef-a8a2-4aa9-cfa8-10489de4c49d"
      },
      "execution_count": null,
      "outputs": [
        {
          "output_type": "execute_result",
          "data": {
            "text/plain": [
              "          valor unidad            vigenciadesde            vigenciahasta\n",
              "count      1000   1000                     1000                     1000\n",
              "unique      998      1                     1000                     1000\n",
              "top     2930.17    COP  2022-12-22T00:00:00.000  2022-12-22T00:00:00.000\n",
              "freq          2   1000                        1                        1"
            ],
            "text/html": [
              "\n",
              "  <div id=\"df-50605ee6-c91c-4451-bbb5-dcb2942d33e0\">\n",
              "    <div class=\"colab-df-container\">\n",
              "      <div>\n",
              "<style scoped>\n",
              "    .dataframe tbody tr th:only-of-type {\n",
              "        vertical-align: middle;\n",
              "    }\n",
              "\n",
              "    .dataframe tbody tr th {\n",
              "        vertical-align: top;\n",
              "    }\n",
              "\n",
              "    .dataframe thead th {\n",
              "        text-align: right;\n",
              "    }\n",
              "</style>\n",
              "<table border=\"1\" class=\"dataframe\">\n",
              "  <thead>\n",
              "    <tr style=\"text-align: right;\">\n",
              "      <th></th>\n",
              "      <th>valor</th>\n",
              "      <th>unidad</th>\n",
              "      <th>vigenciadesde</th>\n",
              "      <th>vigenciahasta</th>\n",
              "    </tr>\n",
              "  </thead>\n",
              "  <tbody>\n",
              "    <tr>\n",
              "      <th>count</th>\n",
              "      <td>1000</td>\n",
              "      <td>1000</td>\n",
              "      <td>1000</td>\n",
              "      <td>1000</td>\n",
              "    </tr>\n",
              "    <tr>\n",
              "      <th>unique</th>\n",
              "      <td>998</td>\n",
              "      <td>1</td>\n",
              "      <td>1000</td>\n",
              "      <td>1000</td>\n",
              "    </tr>\n",
              "    <tr>\n",
              "      <th>top</th>\n",
              "      <td>2930.17</td>\n",
              "      <td>COP</td>\n",
              "      <td>2022-12-22T00:00:00.000</td>\n",
              "      <td>2022-12-22T00:00:00.000</td>\n",
              "    </tr>\n",
              "    <tr>\n",
              "      <th>freq</th>\n",
              "      <td>2</td>\n",
              "      <td>1000</td>\n",
              "      <td>1</td>\n",
              "      <td>1</td>\n",
              "    </tr>\n",
              "  </tbody>\n",
              "</table>\n",
              "</div>\n",
              "      <button class=\"colab-df-convert\" onclick=\"convertToInteractive('df-50605ee6-c91c-4451-bbb5-dcb2942d33e0')\"\n",
              "              title=\"Convert this dataframe to an interactive table.\"\n",
              "              style=\"display:none;\">\n",
              "        \n",
              "  <svg xmlns=\"http://www.w3.org/2000/svg\" height=\"24px\"viewBox=\"0 0 24 24\"\n",
              "       width=\"24px\">\n",
              "    <path d=\"M0 0h24v24H0V0z\" fill=\"none\"/>\n",
              "    <path d=\"M18.56 5.44l.94 2.06.94-2.06 2.06-.94-2.06-.94-.94-2.06-.94 2.06-2.06.94zm-11 1L8.5 8.5l.94-2.06 2.06-.94-2.06-.94L8.5 2.5l-.94 2.06-2.06.94zm10 10l.94 2.06.94-2.06 2.06-.94-2.06-.94-.94-2.06-.94 2.06-2.06.94z\"/><path d=\"M17.41 7.96l-1.37-1.37c-.4-.4-.92-.59-1.43-.59-.52 0-1.04.2-1.43.59L10.3 9.45l-7.72 7.72c-.78.78-.78 2.05 0 2.83L4 21.41c.39.39.9.59 1.41.59.51 0 1.02-.2 1.41-.59l7.78-7.78 2.81-2.81c.8-.78.8-2.07 0-2.86zM5.41 20L4 18.59l7.72-7.72 1.47 1.35L5.41 20z\"/>\n",
              "  </svg>\n",
              "      </button>\n",
              "      \n",
              "  <style>\n",
              "    .colab-df-container {\n",
              "      display:flex;\n",
              "      flex-wrap:wrap;\n",
              "      gap: 12px;\n",
              "    }\n",
              "\n",
              "    .colab-df-convert {\n",
              "      background-color: #E8F0FE;\n",
              "      border: none;\n",
              "      border-radius: 50%;\n",
              "      cursor: pointer;\n",
              "      display: none;\n",
              "      fill: #1967D2;\n",
              "      height: 32px;\n",
              "      padding: 0 0 0 0;\n",
              "      width: 32px;\n",
              "    }\n",
              "\n",
              "    .colab-df-convert:hover {\n",
              "      background-color: #E2EBFA;\n",
              "      box-shadow: 0px 1px 2px rgba(60, 64, 67, 0.3), 0px 1px 3px 1px rgba(60, 64, 67, 0.15);\n",
              "      fill: #174EA6;\n",
              "    }\n",
              "\n",
              "    [theme=dark] .colab-df-convert {\n",
              "      background-color: #3B4455;\n",
              "      fill: #D2E3FC;\n",
              "    }\n",
              "\n",
              "    [theme=dark] .colab-df-convert:hover {\n",
              "      background-color: #434B5C;\n",
              "      box-shadow: 0px 1px 3px 1px rgba(0, 0, 0, 0.15);\n",
              "      filter: drop-shadow(0px 1px 2px rgba(0, 0, 0, 0.3));\n",
              "      fill: #FFFFFF;\n",
              "    }\n",
              "  </style>\n",
              "\n",
              "      <script>\n",
              "        const buttonEl =\n",
              "          document.querySelector('#df-50605ee6-c91c-4451-bbb5-dcb2942d33e0 button.colab-df-convert');\n",
              "        buttonEl.style.display =\n",
              "          google.colab.kernel.accessAllowed ? 'block' : 'none';\n",
              "\n",
              "        async function convertToInteractive(key) {\n",
              "          const element = document.querySelector('#df-50605ee6-c91c-4451-bbb5-dcb2942d33e0');\n",
              "          const dataTable =\n",
              "            await google.colab.kernel.invokeFunction('convertToInteractive',\n",
              "                                                     [key], {});\n",
              "          if (!dataTable) return;\n",
              "\n",
              "          const docLinkHtml = 'Like what you see? Visit the ' +\n",
              "            '<a target=\"_blank\" href=https://colab.research.google.com/notebooks/data_table.ipynb>data table notebook</a>'\n",
              "            + ' to learn more about interactive tables.';\n",
              "          element.innerHTML = '';\n",
              "          dataTable['output_type'] = 'display_data';\n",
              "          await google.colab.output.renderOutput(dataTable, element);\n",
              "          const docLink = document.createElement('div');\n",
              "          docLink.innerHTML = docLinkHtml;\n",
              "          element.appendChild(docLink);\n",
              "        }\n",
              "      </script>\n",
              "    </div>\n",
              "  </div>\n",
              "  "
            ]
          },
          "metadata": {},
          "execution_count": 17
        }
      ]
    },
    {
      "cell_type": "code",
      "source": [
        "#Calcular Media, Mediana y Moda\n",
        "print('El valor de la Media es:',(np.mean(dataf[\"valor\"])\n",
        "print('El valor de la Mediana es:',round(np.median(dataf.valor),3))\n",
        "print('El valor de la Moda es:',round(np.std(dataf.valor),3))"
      ],
      "metadata": {
        "colab": {
          "base_uri": "https://localhost:8080/",
          "height": 131
        },
        "id": "ZLbdKjErl_5K",
        "outputId": "41487a8f-ce64-4a4c-bd87-e8ea541021fe"
      },
      "execution_count": null,
      "outputs": [
        {
          "output_type": "error",
          "ename": "SyntaxError",
          "evalue": "ignored",
          "traceback": [
            "\u001b[0;36m  File \u001b[0;32m\"<ipython-input-25-1e662051fc08>\"\u001b[0;36m, line \u001b[0;32m2\u001b[0m\n\u001b[0;31m    print('El valor de la Media es:',(np.mean(dataf[\"valor\"])\u001b[0m\n\u001b[0m                                     ^\u001b[0m\n\u001b[0;31mSyntaxError\u001b[0m\u001b[0;31m:\u001b[0m '(' was never closed\n"
          ]
        }
      ]
    },
    {
      "cell_type": "code",
      "source": [
        "#Máximo, Mínimo y Rango\n",
        "print('El valor del Maximo es:',round(np.std(dataf.valor),3))\n",
        "print('El valor del Mínimo es:',round(np.std(dataf.valor),3))\n",
        "print('El valor del Rango es:',round(np.std(dataf.valor),3))"
      ],
      "metadata": {
        "id": "7YxGN-1BnNSF"
      },
      "execution_count": null,
      "outputs": []
    },
    {
      "cell_type": "code",
      "source": [
        "#Resumen de los datos númericos\n",
        "type(dataf)"
      ],
      "metadata": {
        "colab": {
          "base_uri": "https://localhost:8080/"
        },
        "id": "RzHRMiztjDNs",
        "outputId": "5aedaae2-c0d9-4155-c8a2-8a17c9497171"
      },
      "execution_count": null,
      "outputs": [
        {
          "output_type": "execute_result",
          "data": {
            "text/plain": [
              "pandas.core.frame.DataFrame"
            ]
          },
          "metadata": {},
          "execution_count": 14
        }
      ]
    },
    {
      "cell_type": "markdown",
      "source": [
        "De acuerdo a lo aprendido en clase, el Data Set no cuenta con los tipos de datos semejantes de la descripción de la pg de datos públicos de Colombia, dado que la columna no es de tipo **number** sino **object**\n",
        "\n",
        "La operaciòn que se realizo y fue visulaizada por el profesor fue: **aplicar una conversión de números flotantes y luego subirlo al Dataframe*\n"
      ],
      "metadata": {
        "id": "se3ww9d-lui7"
      }
    },
    {
      "cell_type": "code",
      "source": [
        "#Infomación General del Dataset\n",
        "dataf.info"
      ],
      "metadata": {
        "colab": {
          "base_uri": "https://localhost:8080/"
        },
        "id": "E0LCmz2Ll2nt",
        "outputId": "ca112056-260d-4e98-adcd-9ac0ee55858e"
      },
      "execution_count": null,
      "outputs": [
        {
          "output_type": "execute_result",
          "data": {
            "text/plain": [
              "<bound method DataFrame.info of        valor unidad            vigenciadesde            vigenciahasta\n",
              "0    4761.64    COP  2022-12-22T00:00:00.000  2022-12-22T00:00:00.000\n",
              "1    4781.28    COP  2022-12-20T00:00:00.000  2022-12-20T00:00:00.000\n",
              "2    4802.48    COP  2022-12-17T00:00:00.000  2022-12-19T00:00:00.000\n",
              "3    4836.24    COP  2022-12-13T00:00:00.000  2022-12-13T00:00:00.000\n",
              "4    4815.99    COP  2022-12-10T00:00:00.000  2022-12-12T00:00:00.000\n",
              "..       ...    ...                      ...                      ...\n",
              "995  1978.63    COP  2014-03-26T00:00:00.000  2014-03-26T00:00:00.000\n",
              "996  1993.85    COP  2014-03-22T00:00:00.000  2014-03-25T00:00:00.000\n",
              "997   1998.6    COP  2014-03-21T00:00:00.000  2014-03-21T00:00:00.000\n",
              "998  2017.38    COP  2014-03-20T00:00:00.000  2014-03-20T00:00:00.000\n",
              "999  2034.86    COP  2014-03-19T00:00:00.000  2014-03-19T00:00:00.000\n",
              "\n",
              "[1000 rows x 4 columns]>"
            ]
          },
          "metadata": {},
          "execution_count": 12
        }
      ]
    },
    {
      "cell_type": "code",
      "source": [
        "#Representaciones Graficas de acuerdo a la naturaleza de los datos\n",
        "dataf.valor.hist(bins=20)\n",
        "plt.title('Histograma de la variación del Dolar')\n",
        "plt.show()"
      ],
      "metadata": {
        "colab": {
          "base_uri": "https://localhost:8080/",
          "height": 453
        },
        "id": "utdB53sPqZDF",
        "outputId": "93ade471-3631-4cb6-8abe-e17ed167044d"
      },
      "execution_count": null,
      "outputs": [
        {
          "output_type": "display_data",
          "data": {
            "text/plain": [
              "<Figure size 640x480 with 1 Axes>"
            ],
            "image/png": "[encoded data removed]"
          },
          "metadata": {}
        }
      ]
    },
    {
      "cell_type": "code",
      "source": [
        "#Representaciones Graficas de acuerdo a la naturaleza de los datos\n",
        "dataf.valor.plot()\n",
        "plt.show()"
      ],
      "metadata": {
        "colab": {
          "base_uri": "https://localhost:8080/",
          "height": 346
        },
        "id": "ZWbT8egXswnO",
        "outputId": "5fa9b70f-21ad-4282-f708-8afa08f157a2"
      },
      "execution_count": null,
      "outputs": [
        {
          "output_type": "error",
          "ename": "TypeError",
          "evalue": "ignored",
          "traceback": [
            "\u001b[0;31m---------------------------------------------------------------------------\u001b[0m",
            "\u001b[0;31mTypeError\u001b[0m                                 Traceback (most recent call last)",
            "\u001b[0;32m<ipython-input-38-7731bfabd437>\u001b[0m in \u001b[0;36m<cell line: 2>\u001b[0;34m()\u001b[0m\n\u001b[1;32m      1\u001b[0m \u001b[0;31m#Representaciones Graficas de acuerdo a la naturaleza de los datos\u001b[0m\u001b[0;34m\u001b[0m\u001b[0;34m\u001b[0m\u001b[0m\n\u001b[0;32m----> 2\u001b[0;31m \u001b[0mdataf\u001b[0m\u001b[0;34m.\u001b[0m\u001b[0mvalor\u001b[0m\u001b[0;34m.\u001b[0m\u001b[0mplot\u001b[0m\u001b[0;34m(\u001b[0m\u001b[0;34m)\u001b[0m\u001b[0;34m\u001b[0m\u001b[0;34m\u001b[0m\u001b[0m\n\u001b[0m\u001b[1;32m      3\u001b[0m \u001b[0mplt\u001b[0m\u001b[0;34m.\u001b[0m\u001b[0mshow\u001b[0m\u001b[0;34m(\u001b[0m\u001b[0;34m)\u001b[0m\u001b[0;34m\u001b[0m\u001b[0;34m\u001b[0m\u001b[0m\n",
            "\u001b[0;32m/usr/local/lib/python3.10/dist-packages/pandas/plotting/_core.py\u001b[0m in \u001b[0;36m__call__\u001b[0;34m(self, *args, **kwargs)\u001b[0m\n\u001b[1;32m    998\u001b[0m                     \u001b[0mdata\u001b[0m\u001b[0;34m.\u001b[0m\u001b[0mcolumns\u001b[0m \u001b[0;34m=\u001b[0m \u001b[0mlabel_name\u001b[0m\u001b[0;34m\u001b[0m\u001b[0;34m\u001b[0m\u001b[0m\n\u001b[1;32m    999\u001b[0m \u001b[0;34m\u001b[0m\u001b[0m\n\u001b[0;32m-> 1000\u001b[0;31m         \u001b[0;32mreturn\u001b[0m \u001b[0mplot_backend\u001b[0m\u001b[0;34m.\u001b[0m\u001b[0mplot\u001b[0m\u001b[0;34m(\u001b[0m\u001b[0mdata\u001b[0m\u001b[0;34m,\u001b[0m \u001b[0mkind\u001b[0m\u001b[0;34m=\u001b[0m\u001b[0mkind\u001b[0m\u001b[0;34m,\u001b[0m \u001b[0;34m**\u001b[0m\u001b[0mkwargs\u001b[0m\u001b[0;34m)\u001b[0m\u001b[0;34m\u001b[0m\u001b[0;34m\u001b[0m\u001b[0m\n\u001b[0m\u001b[1;32m   1001\u001b[0m \u001b[0;34m\u001b[0m\u001b[0m\n\u001b[1;32m   1002\u001b[0m     \u001b[0m__call__\u001b[0m\u001b[0;34m.\u001b[0m\u001b[0m__doc__\u001b[0m \u001b[0;34m=\u001b[0m \u001b[0m__doc__\u001b[0m\u001b[0;34m\u001b[0m\u001b[0;34m\u001b[0m\u001b[0m\n",
            "\u001b[0;32m/usr/local/lib/python3.10/dist-packages/pandas/plotting/_matplotlib/__init__.py\u001b[0m in \u001b[0;36mplot\u001b[0;34m(data, kind, **kwargs)\u001b[0m\n\u001b[1;32m     69\u001b[0m             \u001b[0mkwargs\u001b[0m\u001b[0;34m[\u001b[0m\u001b[0;34m\"ax\"\u001b[0m\u001b[0;34m]\u001b[0m \u001b[0;34m=\u001b[0m \u001b[0mgetattr\u001b[0m\u001b[0;34m(\u001b[0m\u001b[0max\u001b[0m\u001b[0;34m,\u001b[0m \u001b[0;34m\"left_ax\"\u001b[0m\u001b[0;34m,\u001b[0m \u001b[0max\u001b[0m\u001b[0;34m)\u001b[0m\u001b[0;34m\u001b[0m\u001b[0;34m\u001b[0m\u001b[0m\n\u001b[1;32m     70\u001b[0m     \u001b[0mplot_obj\u001b[0m \u001b[0;34m=\u001b[0m \u001b[0mPLOT_CLASSES\u001b[0m\u001b[0;34m[\u001b[0m\u001b[0mkind\u001b[0m\u001b[0;34m]\u001b[0m\u001b[0;34m(\u001b[0m\u001b[0mdata\u001b[0m\u001b[0;34m,\u001b[0m \u001b[0;34m**\u001b[0m\u001b[0mkwargs\u001b[0m\u001b[0;34m)\u001b[0m\u001b[0;34m\u001b[0m\u001b[0;34m\u001b[0m\u001b[0m\n\u001b[0;32m---> 71\u001b[0;31m     \u001b[0mplot_obj\u001b[0m\u001b[0;34m.\u001b[0m\u001b[0mgenerate\u001b[0m\u001b[0;34m(\u001b[0m\u001b[0;34m)\u001b[0m\u001b[0;34m\u001b[0m\u001b[0;34m\u001b[0m\u001b[0m\n\u001b[0m\u001b[1;32m     72\u001b[0m     \u001b[0mplot_obj\u001b[0m\u001b[0;34m.\u001b[0m\u001b[0mdraw\u001b[0m\u001b[0;34m(\u001b[0m\u001b[0;34m)\u001b[0m\u001b[0;34m\u001b[0m\u001b[0;34m\u001b[0m\u001b[0m\n\u001b[1;32m     73\u001b[0m     \u001b[0;32mreturn\u001b[0m \u001b[0mplot_obj\u001b[0m\u001b[0;34m.\u001b[0m\u001b[0mresult\u001b[0m\u001b[0;34m\u001b[0m\u001b[0;34m\u001b[0m\u001b[0m\n",
            "\u001b[0;32m/usr/local/lib/python3.10/dist-packages/pandas/plotting/_matplotlib/core.py\u001b[0m in \u001b[0;36mgenerate\u001b[0;34m(self)\u001b[0m\n\u001b[1;32m    448\u001b[0m     \u001b[0;32mdef\u001b[0m \u001b[0mgenerate\u001b[0m\u001b[0;34m(\u001b[0m\u001b[0mself\u001b[0m\u001b[0;34m)\u001b[0m \u001b[0;34m->\u001b[0m \u001b[0;32mNone\u001b[0m\u001b[0;34m:\u001b[0m\u001b[0;34m\u001b[0m\u001b[0;34m\u001b[0m\u001b[0m\n\u001b[1;32m    449\u001b[0m         \u001b[0mself\u001b[0m\u001b[0;34m.\u001b[0m\u001b[0m_args_adjust\u001b[0m\u001b[0;34m(\u001b[0m\u001b[0;34m)\u001b[0m\u001b[0;34m\u001b[0m\u001b[0;34m\u001b[0m\u001b[0m\n\u001b[0;32m--> 450\u001b[0;31m         \u001b[0mself\u001b[0m\u001b[0;34m.\u001b[0m\u001b[0m_compute_plot_data\u001b[0m\u001b[0;34m(\u001b[0m\u001b[0;34m)\u001b[0m\u001b[0;34m\u001b[0m\u001b[0;34m\u001b[0m\u001b[0m\n\u001b[0m\u001b[1;32m    451\u001b[0m         \u001b[0mself\u001b[0m\u001b[0;34m.\u001b[0m\u001b[0m_setup_subplots\u001b[0m\u001b[0;34m(\u001b[0m\u001b[0;34m)\u001b[0m\u001b[0;34m\u001b[0m\u001b[0;34m\u001b[0m\u001b[0m\n\u001b[1;32m    452\u001b[0m         \u001b[0mself\u001b[0m\u001b[0;34m.\u001b[0m\u001b[0m_make_plot\u001b[0m\u001b[0;34m(\u001b[0m\u001b[0;34m)\u001b[0m\u001b[0;34m\u001b[0m\u001b[0;34m\u001b[0m\u001b[0m\n",
            "\u001b[0;32m/usr/local/lib/python3.10/dist-packages/pandas/plotting/_matplotlib/core.py\u001b[0m in \u001b[0;36m_compute_plot_data\u001b[0;34m(self)\u001b[0m\n\u001b[1;32m    633\u001b[0m         \u001b[0;31m# no non-numeric frames or series allowed\u001b[0m\u001b[0;34m\u001b[0m\u001b[0;34m\u001b[0m\u001b[0m\n\u001b[1;32m    634\u001b[0m         \u001b[0;32mif\u001b[0m \u001b[0mis_empty\u001b[0m\u001b[0;34m:\u001b[0m\u001b[0;34m\u001b[0m\u001b[0;34m\u001b[0m\u001b[0m\n\u001b[0;32m--> 635\u001b[0;31m             \u001b[0;32mraise\u001b[0m \u001b[0mTypeError\u001b[0m\u001b[0;34m(\u001b[0m\u001b[0;34m\"no numeric data to plot\"\u001b[0m\u001b[0;34m)\u001b[0m\u001b[0;34m\u001b[0m\u001b[0;34m\u001b[0m\u001b[0m\n\u001b[0m\u001b[1;32m    636\u001b[0m \u001b[0;34m\u001b[0m\u001b[0m\n\u001b[1;32m    637\u001b[0m         \u001b[0mself\u001b[0m\u001b[0;34m.\u001b[0m\u001b[0mdata\u001b[0m \u001b[0;34m=\u001b[0m \u001b[0mnumeric_data\u001b[0m\u001b[0;34m.\u001b[0m\u001b[0mapply\u001b[0m\u001b[0;34m(\u001b[0m\u001b[0mself\u001b[0m\u001b[0;34m.\u001b[0m\u001b[0m_convert_to_ndarray\u001b[0m\u001b[0;34m)\u001b[0m\u001b[0;34m\u001b[0m\u001b[0;34m\u001b[0m\u001b[0m\n",
            "\u001b[0;31mTypeError\u001b[0m: no numeric data to plot"
          ]
        }
      ]
    },
    {
      "cell_type": "markdown",
      "source": [
        "**Punto 6**\n",
        "\n",
        "Usando Socrata, Cargue un Dataset que se encuentre en el portal de datos públicos de Colombia."
      ],
      "metadata": {
        "id": "z0VGcLZejazV"
      }
    },
    {
      "cell_type": "code",
      "source": [
        "!pip install sodapy"
      ],
      "metadata": {
        "colab": {
          "base_uri": "https://localhost:8080/"
        },
        "id": "jy5NYC0ZehBW",
        "outputId": "65868a79-93ff-48d3-e5e6-b66fb901a738"
      },
      "execution_count": null,
      "outputs": [
        {
          "output_type": "stream",
          "name": "stdout",
          "text": [
            "Looking in indexes: https://pypi.org/simple, https://us-python.pkg.dev/colab-wheels/public/simple/\n",
            "Requirement already satisfied: sodapy in /usr/local/lib/python3.10/dist-packages (2.2.0)\n",
            "Requirement already satisfied: requests>=2.28.1 in /usr/local/lib/python3.10/dist-packages (from sodapy) (2.31.0)\n",
            "Requirement already satisfied: charset-normalizer<4,>=2 in /usr/local/lib/python3.10/dist-packages (from requests>=2.28.1->sodapy) (2.0.12)\n",
            "Requirement already satisfied: idna<4,>=2.5 in /usr/local/lib/python3.10/dist-packages (from requests>=2.28.1->sodapy) (3.4)\n",
            "Requirement already satisfied: urllib3<3,>=1.21.1 in /usr/local/lib/python3.10/dist-packages (from requests>=2.28.1->sodapy) (1.26.15)\n",
            "Requirement already satisfied: certifi>=2017.4.17 in /usr/local/lib/python3.10/dist-packages (from requests>=2.28.1->sodapy) (2022.12.7)\n"
          ]
        }
      ]
    },
    {
      "cell_type": "code",
      "source": [
        "import matplotlib.pyplot as plt\n"
      ],
      "metadata": {
        "id": "6qKe-WrDt28X"
      },
      "execution_count": null,
      "outputs": []
    },
    {
      "cell_type": "code",
      "source": [
        "#Usando Socrata cargue un dataset que se encuentre en el portal de Datos publicos de Colombia: Accidentes de transito Palmira 2022-2023\n",
        "import pandas as pd\n",
        "import numpy as np\n",
        "import matplotlib.pyplot as plt\n",
        "from sodapy import Socrata\n",
        "cliente=Socrata('www.datos.gov.co', None)\n",
        "result=cliente.get(\"esbz-zavy\")\n",
        "df=pd.DataFrame.from_records(result)\n",
        "df.head()"
      ],
      "metadata": {
        "colab": {
          "base_uri": "https://localhost:8080/",
          "height": 404
        },
        "id": "hxRPyDI-Ksjd",
        "outputId": "21b4ec8e-bb13-432a-bd8b-64f415797954"
      },
      "execution_count": null,
      "outputs": [
        {
          "output_type": "stream",
          "name": "stderr",
          "text": [
            "WARNING:root:Requests made without an app_token will be subject to strict throttling limits.\n"
          ]
        },
        {
          "output_type": "execute_result",
          "data": {
            "text/plain": [
              "  clase_accidente                    fecha   a_o                     hora  \\\n",
              "0           DAÑOS  2022-01-03T00:00:00.000  2022  1899-12-31T15:30:00.000   \n",
              "1           DAÑOS  2022-01-03T00:00:00.000  2022  1899-12-31T15:30:00.000   \n",
              "2           DAÑOS  2022-01-03T00:00:00.000  2022  1899-12-31T04:30:00.000   \n",
              "3           DAÑOS  2022-01-03T00:00:00.000  2022  1899-12-31T08:30:00.000   \n",
              "4           DAÑOS  2022-01-04T00:00:00.000  2022  1899-12-31T17:20:00.000   \n",
              "\n",
              "  jornada dia_semana     barrios_corregimiento_via            direccion  \\\n",
              "0  MAÑANA      LUNES                 SANTA BARBARA  CALLE 31 CARRERA 46   \n",
              "1  MAÑANA      LUNES                 SANTA BARBARA  CALLE 31 CARRERA 46   \n",
              "2  MAÑANA      LUNES                        CENTRO  CALLE 31 CARRERA 24   \n",
              "3  MAÑANA      LUNES                        CENTRO  CALLE 31 CARRERA 24   \n",
              "4   TARDE     MARTES  CENTRO COMERCIAL LLANOGRANDE          PARQUIADERO   \n",
              "\n",
              "     zona autoridad  ... gravedad edad     genero lesionados_y_muertos  \\\n",
              "0  URBANA   TECNICO  ...   CHOQUE   28  MASCULINO            NO APLICA   \n",
              "1  URBANA   TECNICO  ...   CHOQUE   29   FEMENINA            NO APLICA   \n",
              "2  URBANA   TECNICO  ...   CHOQUE   64  MASCULINO            NO APLICA   \n",
              "3  URBANA   TECNICO  ...   CHOQUE   62  MASCULINO            NO APLICA   \n",
              "4  URBANA   TECNICO  ...   CHOQUE   48   FEMENINA            NO APLICA   \n",
              "\n",
              "  clinica clase_vehiculo marca matricula tipo_de_servicio empresa  \n",
              "0     N/A            N/A   N/A       N/A       PARTICULAR     N/A  \n",
              "1     N/A            N/A   N/A       N/A       PARTICULAR     N/A  \n",
              "2     N/A            N/A   N/A       N/A       PARTICULAR     N/A  \n",
              "3     N/A            N/A   N/A       N/A       PARTICULAR     N/A  \n",
              "4     N/A            N/A   N/A       N/A       PARTICULAR     N/A  \n",
              "\n",
              "[5 rows x 25 columns]"
            ],
            "text/html": [
              "\n",
              "  <div id=\"df-e9b8d060-dad5-4f5a-86e5-6ad55cb30fe6\">\n",
              "    <div class=\"colab-df-container\">\n",
              "      <div>\n",
              "<style scoped>\n",
              "    .dataframe tbody tr th:only-of-type {\n",
              "        vertical-align: middle;\n",
              "    }\n",
              "\n",
              "    .dataframe tbody tr th {\n",
              "        vertical-align: top;\n",
              "    }\n",
              "\n",
              "    .dataframe thead th {\n",
              "        text-align: right;\n",
              "    }\n",
              "</style>\n",
              "<table border=\"1\" class=\"dataframe\">\n",
              "  <thead>\n",
              "    <tr style=\"text-align: right;\">\n",
              "      <th></th>\n",
              "      <th>clase_accidente</th>\n",
              "      <th>fecha</th>\n",
              "      <th>a_o</th>\n",
              "      <th>hora</th>\n",
              "      <th>jornada</th>\n",
              "      <th>dia_semana</th>\n",
              "      <th>barrios_corregimiento_via</th>\n",
              "      <th>direccion</th>\n",
              "      <th>zona</th>\n",
              "      <th>autoridad</th>\n",
              "      <th>...</th>\n",
              "      <th>gravedad</th>\n",
              "      <th>edad</th>\n",
              "      <th>genero</th>\n",
              "      <th>lesionados_y_muertos</th>\n",
              "      <th>clinica</th>\n",
              "      <th>clase_vehiculo</th>\n",
              "      <th>marca</th>\n",
              "      <th>matricula</th>\n",
              "      <th>tipo_de_servicio</th>\n",
              "      <th>empresa</th>\n",
              "    </tr>\n",
              "  </thead>\n",
              "  <tbody>\n",
              "    <tr>\n",
              "      <th>0</th>\n",
              "      <td>DAÑOS</td>\n",
              "      <td>2022-01-03T00:00:00.000</td>\n",
              "      <td>2022</td>\n",
              "      <td>1899-12-31T15:30:00.000</td>\n",
              "      <td>MAÑANA</td>\n",
              "      <td>LUNES</td>\n",
              "      <td>SANTA BARBARA</td>\n",
              "      <td>CALLE 31 CARRERA 46</td>\n",
              "      <td>URBANA</td>\n",
              "      <td>TECNICO</td>\n",
              "      <td>...</td>\n",
              "      <td>CHOQUE</td>\n",
              "      <td>28</td>\n",
              "      <td>MASCULINO</td>\n",
              "      <td>NO APLICA</td>\n",
              "      <td>N/A</td>\n",
              "      <td>N/A</td>\n",
              "      <td>N/A</td>\n",
              "      <td>N/A</td>\n",
              "      <td>PARTICULAR</td>\n",
              "      <td>N/A</td>\n",
              "    </tr>\n",
              "    <tr>\n",
              "      <th>1</th>\n",
              "      <td>DAÑOS</td>\n",
              "      <td>2022-01-03T00:00:00.000</td>\n",
              "      <td>2022</td>\n",
              "      <td>1899-12-31T15:30:00.000</td>\n",
              "      <td>MAÑANA</td>\n",
              "      <td>LUNES</td>\n",
              "      <td>SANTA BARBARA</td>\n",
              "      <td>CALLE 31 CARRERA 46</td>\n",
              "      <td>URBANA</td>\n",
              "      <td>TECNICO</td>\n",
              "      <td>...</td>\n",
              "      <td>CHOQUE</td>\n",
              "      <td>29</td>\n",
              "      <td>FEMENINA</td>\n",
              "      <td>NO APLICA</td>\n",
              "      <td>N/A</td>\n",
              "      <td>N/A</td>\n",
              "      <td>N/A</td>\n",
              "      <td>N/A</td>\n",
              "      <td>PARTICULAR</td>\n",
              "      <td>N/A</td>\n",
              "    </tr>\n",
              "    <tr>\n",
              "      <th>2</th>\n",
              "      <td>DAÑOS</td>\n",
              "      <td>2022-01-03T00:00:00.000</td>\n",
              "      <td>2022</td>\n",
              "      <td>1899-12-31T04:30:00.000</td>\n",
              "      <td>MAÑANA</td>\n",
              "      <td>LUNES</td>\n",
              "      <td>CENTRO</td>\n",
              "      <td>CALLE 31 CARRERA 24</td>\n",
              "      <td>URBANA</td>\n",
              "      <td>TECNICO</td>\n",
              "      <td>...</td>\n",
              "      <td>CHOQUE</td>\n",
              "      <td>64</td>\n",
              "      <td>MASCULINO</td>\n",
              "      <td>NO APLICA</td>\n",
              "      <td>N/A</td>\n",
              "      <td>N/A</td>\n",
              "      <td>N/A</td>\n",
              "      <td>N/A</td>\n",
              "      <td>PARTICULAR</td>\n",
              "      <td>N/A</td>\n",
              "    </tr>\n",
              "    <tr>\n",
              "      <th>3</th>\n",
              "      <td>DAÑOS</td>\n",
              "      <td>2022-01-03T00:00:00.000</td>\n",
              "      <td>2022</td>\n",
              "      <td>1899-12-31T08:30:00.000</td>\n",
              "      <td>MAÑANA</td>\n",
              "      <td>LUNES</td>\n",
              "      <td>CENTRO</td>\n",
              "      <td>CALLE 31 CARRERA 24</td>\n",
              "      <td>URBANA</td>\n",
              "      <td>TECNICO</td>\n",
              "      <td>...</td>\n",
              "      <td>CHOQUE</td>\n",
              "      <td>62</td>\n",
              "      <td>MASCULINO</td>\n",
              "      <td>NO APLICA</td>\n",
              "      <td>N/A</td>\n",
              "      <td>N/A</td>\n",
              "      <td>N/A</td>\n",
              "      <td>N/A</td>\n",
              "      <td>PARTICULAR</td>\n",
              "      <td>N/A</td>\n",
              "    </tr>\n",
              "    <tr>\n",
              "      <th>4</th>\n",
              "      <td>DAÑOS</td>\n",
              "      <td>2022-01-04T00:00:00.000</td>\n",
              "      <td>2022</td>\n",
              "      <td>1899-12-31T17:20:00.000</td>\n",
              "      <td>TARDE</td>\n",
              "      <td>MARTES</td>\n",
              "      <td>CENTRO COMERCIAL LLANOGRANDE</td>\n",
              "      <td>PARQUIADERO</td>\n",
              "      <td>URBANA</td>\n",
              "      <td>TECNICO</td>\n",
              "      <td>...</td>\n",
              "      <td>CHOQUE</td>\n",
              "      <td>48</td>\n",
              "      <td>FEMENINA</td>\n",
              "      <td>NO APLICA</td>\n",
              "      <td>N/A</td>\n",
              "      <td>N/A</td>\n",
              "      <td>N/A</td>\n",
              "      <td>N/A</td>\n",
              "      <td>PARTICULAR</td>\n",
              "      <td>N/A</td>\n",
              "    </tr>\n",
              "  </tbody>\n",
              "</table>\n",
              "<p>5 rows × 25 columns</p>\n",
              "</div>\n",
              "      <button class=\"colab-df-convert\" onclick=\"convertToInteractive('df-e9b8d060-dad5-4f5a-86e5-6ad55cb30fe6')\"\n",
              "              title=\"Convert this dataframe to an interactive table.\"\n",
              "              style=\"display:none;\">\n",
              "        \n",
              "  <svg xmlns=\"http://www.w3.org/2000/svg\" height=\"24px\"viewBox=\"0 0 24 24\"\n",
              "       width=\"24px\">\n",
              "    <path d=\"M0 0h24v24H0V0z\" fill=\"none\"/>\n",
              "    <path d=\"M18.56 5.44l.94 2.06.94-2.06 2.06-.94-2.06-.94-.94-2.06-.94 2.06-2.06.94zm-11 1L8.5 8.5l.94-2.06 2.06-.94-2.06-.94L8.5 2.5l-.94 2.06-2.06.94zm10 10l.94 2.06.94-2.06 2.06-.94-2.06-.94-.94-2.06-.94 2.06-2.06.94z\"/><path d=\"M17.41 7.96l-1.37-1.37c-.4-.4-.92-.59-1.43-.59-.52 0-1.04.2-1.43.59L10.3 9.45l-7.72 7.72c-.78.78-.78 2.05 0 2.83L4 21.41c.39.39.9.59 1.41.59.51 0 1.02-.2 1.41-.59l7.78-7.78 2.81-2.81c.8-.78.8-2.07 0-2.86zM5.41 20L4 18.59l7.72-7.72 1.47 1.35L5.41 20z\"/>\n",
              "  </svg>\n",
              "      </button>\n",
              "      \n",
              "  <style>\n",
              "    .colab-df-container {\n",
              "      display:flex;\n",
              "      flex-wrap:wrap;\n",
              "      gap: 12px;\n",
              "    }\n",
              "\n",
              "    .colab-df-convert {\n",
              "      background-color: #E8F0FE;\n",
              "      border: none;\n",
              "      border-radius: 50%;\n",
              "      cursor: pointer;\n",
              "      display: none;\n",
              "      fill: #1967D2;\n",
              "      height: 32px;\n",
              "      padding: 0 0 0 0;\n",
              "      width: 32px;\n",
              "    }\n",
              "\n",
              "    .colab-df-convert:hover {\n",
              "      background-color: #E2EBFA;\n",
              "      box-shadow: 0px 1px 2px rgba(60, 64, 67, 0.3), 0px 1px 3px 1px rgba(60, 64, 67, 0.15);\n",
              "      fill: #174EA6;\n",
              "    }\n",
              "\n",
              "    [theme=dark] .colab-df-convert {\n",
              "      background-color: #3B4455;\n",
              "      fill: #D2E3FC;\n",
              "    }\n",
              "\n",
              "    [theme=dark] .colab-df-convert:hover {\n",
              "      background-color: #434B5C;\n",
              "      box-shadow: 0px 1px 3px 1px rgba(0, 0, 0, 0.15);\n",
              "      filter: drop-shadow(0px 1px 2px rgba(0, 0, 0, 0.3));\n",
              "      fill: #FFFFFF;\n",
              "    }\n",
              "  </style>\n",
              "\n",
              "      <script>\n",
              "        const buttonEl =\n",
              "          document.querySelector('#df-e9b8d060-dad5-4f5a-86e5-6ad55cb30fe6 button.colab-df-convert');\n",
              "        buttonEl.style.display =\n",
              "          google.colab.kernel.accessAllowed ? 'block' : 'none';\n",
              "\n",
              "        async function convertToInteractive(key) {\n",
              "          const element = document.querySelector('#df-e9b8d060-dad5-4f5a-86e5-6ad55cb30fe6');\n",
              "          const dataTable =\n",
              "            await google.colab.kernel.invokeFunction('convertToInteractive',\n",
              "                                                     [key], {});\n",
              "          if (!dataTable) return;\n",
              "\n",
              "          const docLinkHtml = 'Like what you see? Visit the ' +\n",
              "            '<a target=\"_blank\" href=https://colab.research.google.com/notebooks/data_table.ipynb>data table notebook</a>'\n",
              "            + ' to learn more about interactive tables.';\n",
              "          element.innerHTML = '';\n",
              "          dataTable['output_type'] = 'display_data';\n",
              "          await google.colab.output.renderOutput(dataTable, element);\n",
              "          const docLink = document.createElement('div');\n",
              "          docLink.innerHTML = docLinkHtml;\n",
              "          element.appendChild(docLink);\n",
              "        }\n",
              "      </script>\n",
              "    </div>\n",
              "  </div>\n",
              "  "
            ]
          },
          "metadata": {},
          "execution_count": 11
        }
      ]
    },
    {
      "cell_type": "code",
      "source": [
        "#Tipo de la Variable\n",
        "type(df)"
      ],
      "metadata": {
        "colab": {
          "base_uri": "https://localhost:8080/"
        },
        "id": "KbENQCrskMLQ",
        "outputId": "82155341-7d03-4ff1-d7d2-6c68937be417"
      },
      "execution_count": null,
      "outputs": [
        {
          "output_type": "execute_result",
          "data": {
            "text/plain": [
              "pandas.core.frame.DataFrame"
            ]
          },
          "metadata": {},
          "execution_count": 18
        }
      ]
    },
    {
      "cell_type": "code",
      "source": [
        "#Cantidad de Filas y Columnas\n",
        "df.shape"
      ],
      "metadata": {
        "colab": {
          "base_uri": "https://localhost:8080/"
        },
        "id": "cnZNxNLPjnO4",
        "outputId": "4a4ef906-28b4-47ec-e388-c12abc3e4ddb"
      },
      "execution_count": null,
      "outputs": [
        {
          "output_type": "execute_result",
          "data": {
            "text/plain": [
              "(808, 25)"
            ]
          },
          "metadata": {},
          "execution_count": 17
        }
      ]
    },
    {
      "cell_type": "code",
      "source": [
        "# Información General del Dataset\n",
        "df.info()"
      ],
      "metadata": {
        "id": "jlj2m-vDfGxy",
        "colab": {
          "base_uri": "https://localhost:8080/"
        },
        "outputId": "f41f5b4c-1ac7-43af-f0f6-5658f5d774a9"
      },
      "execution_count": null,
      "outputs": [
        {
          "output_type": "stream",
          "name": "stdout",
          "text": [
            "<class 'pandas.core.frame.DataFrame'>\n",
            "RangeIndex: 808 entries, 0 to 807\n",
            "Data columns (total 25 columns):\n",
            " #   Column                     Non-Null Count  Dtype \n",
            "---  ------                     --------------  ----- \n",
            " 0   clase_accidente            808 non-null    object\n",
            " 1   fecha                      808 non-null    object\n",
            " 2   a_o                        808 non-null    object\n",
            " 3   hora                       808 non-null    object\n",
            " 4   jornada                    808 non-null    object\n",
            " 5   dia_semana                 808 non-null    object\n",
            " 6   barrios_corregimiento_via  808 non-null    object\n",
            " 7   direccion                  808 non-null    object\n",
            " 8   zona                       808 non-null    object\n",
            " 9   autoridad                  808 non-null    object\n",
            " 10  lat                        808 non-null    object\n",
            " 11  long                       808 non-null    object\n",
            " 12  hipotesis                  808 non-null    object\n",
            " 13  codigo                     808 non-null    object\n",
            " 14  condicion_de_la_victima    808 non-null    object\n",
            " 15  gravedad                   808 non-null    object\n",
            " 16  edad                       808 non-null    object\n",
            " 17  genero                     808 non-null    object\n",
            " 18  lesionados_y_muertos       808 non-null    object\n",
            " 19  clinica                    808 non-null    object\n",
            " 20  clase_vehiculo             808 non-null    object\n",
            " 21  marca                      808 non-null    object\n",
            " 22  matricula                  808 non-null    object\n",
            " 23  tipo_de_servicio           808 non-null    object\n",
            " 24  empresa                    808 non-null    object\n",
            "dtypes: object(25)\n",
            "memory usage: 157.9+ KB\n"
          ]
        }
      ]
    },
    {
      "cell_type": "code",
      "source": [
        "#Descipción de la bd\n",
        "df.describe"
      ],
      "metadata": {
        "colab": {
          "base_uri": "https://localhost:8080/"
        },
        "id": "fZUi7YGak94B",
        "outputId": "13806c16-4046-4f14-9bde-1d2d63b47262"
      },
      "execution_count": null,
      "outputs": [
        {
          "output_type": "execute_result",
          "data": {
            "text/plain": [
              "<bound method NDFrame.describe of     clase_accidente                    fecha   a_o                     hora  \\\n",
              "0             DAÑOS  2022-01-03T00:00:00.000  2022  1899-12-31T15:30:00.000   \n",
              "1             DAÑOS  2022-01-03T00:00:00.000  2022  1899-12-31T15:30:00.000   \n",
              "2             DAÑOS  2022-01-03T00:00:00.000  2022  1899-12-31T04:30:00.000   \n",
              "3             DAÑOS  2022-01-03T00:00:00.000  2022  1899-12-31T08:30:00.000   \n",
              "4             DAÑOS  2022-01-04T00:00:00.000  2022  1899-12-31T17:20:00.000   \n",
              "..              ...                      ...   ...                      ...   \n",
              "803           DAÑOS  2023-01-22T00:00:00.000  2023  1899-12-31T11:40:00.000   \n",
              "804           DAÑOS  2023-01-23T00:00:00.000  2023  1899-12-31T23:00:00.000   \n",
              "805           DAÑOS  2023-01-23T00:00:00.000  2023  1899-12-31T23:00:00.000   \n",
              "806           DAÑOS  2023-01-26T00:00:00.000  2023  1899-12-31T20:20:00.000   \n",
              "807           DAÑOS  2023-01-26T00:00:00.000  2023  1899-12-31T20:20:00.000   \n",
              "\n",
              "    jornada dia_semana     barrios_corregimiento_via               direccion  \\\n",
              "0    MAÑANA      LUNES                 SANTA BARBARA     CALLE 31 CARRERA 46   \n",
              "1    MAÑANA      LUNES                 SANTA BARBARA     CALLE 31 CARRERA 46   \n",
              "2    MAÑANA      LUNES                        CENTRO     CALLE 31 CARRERA 24   \n",
              "3    MAÑANA      LUNES                        CENTRO     CALLE 31 CARRERA 24   \n",
              "4     TARDE     MARTES  CENTRO COMERCIAL LLANOGRANDE             PARQUIADERO   \n",
              "..      ...        ...                           ...                     ...   \n",
              "803  MAÑANA    DOMINGO                        SESQUI     CARRERA 32 CALLE 10   \n",
              "804   NOCHE      LUNES          RESERVAS DE ZAMORANO     CALLE 65 CARRERA 35   \n",
              "805   NOCHE      LUNES          RESERVAS DE ZAMORANO     CALLE 65 CARRERA 35   \n",
              "806   NOCHE     JUEVES          PORTAL DE LAS PALMAS  CALLE 47 CARRERA 44-45   \n",
              "807   NOCHE     JUEVES          PORTAL DE LAS PALMAS  CALLE 47 CARRERA 44-45   \n",
              "\n",
              "       zona autoridad  ... gravedad edad     genero lesionados_y_muertos  \\\n",
              "0    URBANA   TECNICO  ...   CHOQUE   28  MASCULINO            NO APLICA   \n",
              "1    URBANA   TECNICO  ...   CHOQUE   29   FEMENINA            NO APLICA   \n",
              "2    URBANA   TECNICO  ...   CHOQUE   64  MASCULINO            NO APLICA   \n",
              "3    URBANA   TECNICO  ...   CHOQUE   62  MASCULINO            NO APLICA   \n",
              "4    URBANA   TECNICO  ...   CHOQUE   48   FEMENINA            NO APLICA   \n",
              "..      ...       ...  ...      ...  ...        ...                  ...   \n",
              "803  URBANA   TECNICO  ...   CHOQUE   32   FEMENINA            NO APLICA   \n",
              "804  URBANA   TECNICO  ...   CHOQUE   41  MASCULINO            NO APLICA   \n",
              "805  URBANA   TECNICO  ...   CHOQUE   50  MASCULINO            NO APLICA   \n",
              "806  URBANA   TECNICO  ...   CHOQUE   28  MASCULINO            NO APLICA   \n",
              "807  URBANA   TECNICO  ...   CHOQUE   56  MASCULINO            NO APLICA   \n",
              "\n",
              "    clinica clase_vehiculo marca matricula tipo_de_servicio empresa  \n",
              "0       N/A            N/A   N/A       N/A       PARTICULAR     N/A  \n",
              "1       N/A            N/A   N/A       N/A       PARTICULAR     N/A  \n",
              "2       N/A            N/A   N/A       N/A       PARTICULAR     N/A  \n",
              "3       N/A            N/A   N/A       N/A       PARTICULAR     N/A  \n",
              "4       N/A            N/A   N/A       N/A       PARTICULAR     N/A  \n",
              "..      ...            ...   ...       ...              ...     ...  \n",
              "803     N/A            N/A   N/A       N/A       PARTICULAR     N/A  \n",
              "804     N/A            N/A   N/A       N/A       PARTICULAR     N/A  \n",
              "805     N/A            N/A   N/A       N/A       PARTICULAR     N/A  \n",
              "806     N/A            N/A   N/A       N/A       PARTICULAR     N/A  \n",
              "807     N/A            N/A   N/A       N/A       PARTICULAR     N/A  \n",
              "\n",
              "[808 rows x 25 columns]>"
            ]
          },
          "metadata": {},
          "execution_count": 19
        }
      ]
    },
    {
      "cell_type": "code",
      "source": [
        "#Media, Mediana, Moda, Desviación Estandar\n",
        "print('El valor de la Media es:')\n",
        "df.edad.mean()\n",
        "print('El valor de la Mediana es:')\n",
        "df.edad.median()\n",
        "print('El valor de la Desviación Estandar es:')"
      ],
      "metadata": {
        "colab": {
          "base_uri": "https://localhost:8080/"
        },
        "id": "WJ5eLeeaqYyW",
        "outputId": "38c1cf8f-84c9-438f-f987-376504fb684f"
      },
      "execution_count": null,
      "outputs": [
        {
          "output_type": "stream",
          "name": "stdout",
          "text": [
            "El valor de la Media es:\n",
            "El valor de la Mediana es:\n"
          ]
        },
        {
          "output_type": "execute_result",
          "data": {
            "text/plain": [
              "39.0"
            ]
          },
          "metadata": {},
          "execution_count": 44
        }
      ]
    },
    {
      "cell_type": "markdown",
      "source": [
        "***De acuerdo al dataset cargado, se puede observar que los datos son tipo object, lo cual, no permite obtener datos estadisticos como La Media, La desviaciñon Estandar, y las graficas correspondientes..***"
      ],
      "metadata": {
        "id": "NIGzQF1KE_78"
      }
    },
    {
      "cell_type": "code",
      "source": [
        "df['genero'].describe()"
      ],
      "metadata": {
        "colab": {
          "base_uri": "https://localhost:8080/"
        },
        "id": "v3QyrbqulTwH",
        "outputId": "4b3ce0eb-8866-4111-e41d-b11569effa4c"
      },
      "execution_count": null,
      "outputs": [
        {
          "output_type": "execute_result",
          "data": {
            "text/plain": [
              "count           808\n",
              "unique            2\n",
              "top       MASCULINO\n",
              "freq            673\n",
              "Name: genero, dtype: object"
            ]
          },
          "metadata": {},
          "execution_count": 21
        }
      ]
    },
    {
      "cell_type": "code",
      "source": [
        "df['edad'].describe()"
      ],
      "metadata": {
        "colab": {
          "base_uri": "https://localhost:8080/"
        },
        "id": "gzxIWB71l9mM",
        "outputId": "a0a98122-5ca3-48d6-91c9-939d9b400827"
      },
      "execution_count": null,
      "outputs": [
        {
          "output_type": "execute_result",
          "data": {
            "text/plain": [
              "count     808\n",
              "unique     66\n",
              "top        28\n",
              "freq       28\n",
              "Name: edad, dtype: object"
            ]
          },
          "metadata": {},
          "execution_count": 23
        }
      ]
    },
    {
      "cell_type": "code",
      "source": [
        "#Diagrama de\n",
        "df.boxplot()"
      ],
      "metadata": {
        "colab": {
          "base_uri": "https://localhost:8080/",
          "height": 184
        },
        "id": "vtSDBuo0m90A",
        "outputId": "913ebb53-8805-4319-fe21-be105e188939"
      },
      "execution_count": null,
      "outputs": [
        {
          "output_type": "error",
          "ename": "NameError",
          "evalue": "ignored",
          "traceback": [
            "\u001b[0;31m---------------------------------------------------------------------------\u001b[0m",
            "\u001b[0;31mNameError\u001b[0m                                 Traceback (most recent call last)",
            "\u001b[0;32m<ipython-input-15-5d3e82b90adf>\u001b[0m in \u001b[0;36m<cell line: 2>\u001b[0;34m()\u001b[0m\n\u001b[1;32m      1\u001b[0m \u001b[0;31m#Diagrama de\u001b[0m\u001b[0;34m\u001b[0m\u001b[0;34m\u001b[0m\u001b[0m\n\u001b[0;32m----> 2\u001b[0;31m \u001b[0mdf\u001b[0m\u001b[0;34m.\u001b[0m\u001b[0mboxplot\u001b[0m\u001b[0;34m(\u001b[0m\u001b[0;34m)\u001b[0m\u001b[0;34m\u001b[0m\u001b[0;34m\u001b[0m\u001b[0m\n\u001b[0m",
            "\u001b[0;31mNameError\u001b[0m: name 'df' is not defined"
          ]
        }
      ]
    },
    {
      "cell_type": "code",
      "source": [
        "#Limpieza de Columnas que no contienen datos\n",
        "del(df['clinica'])\n",
        "del(df['clase_vehiculo'])\n",
        "del(df['marca'])\n",
        "del(df['matricula'])"
      ],
      "metadata": {
        "id": "WlBZJ6aNoofT"
      },
      "execution_count": null,
      "outputs": []
    },
    {
      "cell_type": "code",
      "source": [
        "df.info()"
      ],
      "metadata": {
        "colab": {
          "base_uri": "https://localhost:8080/"
        },
        "id": "E6JsYgPwpfAn",
        "outputId": "9e2ba1ad-851b-4b86-fc77-2de03fba4dcc"
      },
      "execution_count": null,
      "outputs": [
        {
          "output_type": "stream",
          "name": "stdout",
          "text": [
            "<class 'pandas.core.frame.DataFrame'>\n",
            "RangeIndex: 808 entries, 0 to 807\n",
            "Data columns (total 21 columns):\n",
            " #   Column                     Non-Null Count  Dtype \n",
            "---  ------                     --------------  ----- \n",
            " 0   clase_accidente            808 non-null    object\n",
            " 1   fecha                      808 non-null    object\n",
            " 2   a_o                        808 non-null    object\n",
            " 3   hora                       808 non-null    object\n",
            " 4   jornada                    808 non-null    object\n",
            " 5   dia_semana                 808 non-null    object\n",
            " 6   barrios_corregimiento_via  808 non-null    object\n",
            " 7   direccion                  808 non-null    object\n",
            " 8   zona                       808 non-null    object\n",
            " 9   autoridad                  808 non-null    object\n",
            " 10  lat                        808 non-null    object\n",
            " 11  long                       808 non-null    object\n",
            " 12  hipotesis                  808 non-null    object\n",
            " 13  codigo                     808 non-null    object\n",
            " 14  condicion_de_la_victima    808 non-null    object\n",
            " 15  gravedad                   808 non-null    object\n",
            " 16  edad                       808 non-null    object\n",
            " 17  genero                     808 non-null    object\n",
            " 18  lesionados_y_muertos       808 non-null    object\n",
            " 19  tipo_de_servicio           808 non-null    object\n",
            " 20  empresa                    808 non-null    object\n",
            "dtypes: object(21)\n",
            "memory usage: 132.7+ KB\n"
          ]
        }
      ]
    },
    {
      "cell_type": "markdown",
      "source": [
        "Un Dataframe es igual a tener una base de datos, se observan solo dos variables cualitativas como lo son el genero y la edad. mayo tasa or accidentes de genero MASCULINO promedio de rango de edad entre los 28 a 66\n",
        "Se realiza media,mediana y moda de los datos para demostrar el uso de los metodos estadisticos."
      ],
      "metadata": {
        "id": "azKwqcM5koG-"
      }
    },
    {
      "cell_type": "markdown",
      "source": [
        "***Explicación de Graficas***\n",
        "\n",
        "Mediante los siguientes ejercicios practicos doy explicación de los diferente tipos de graficos ya que como lo explique en los puntos anteriores el dataset cargado no permite obtener datos estadisticos."
      ],
      "metadata": {
        "id": "0v9GPifqF8cJ"
      }
    },
    {
      "cell_type": "code",
      "source": [
        "# Importar el módulo pyplot con el alias plt\n",
        "import matplotlib.pyplot as plt\n",
        "# Crear la figura y los ejes\n",
        "fig, ax = plt.subplots()\n",
        "# Dibujar puntos\n",
        "ax.scatter(x = [1, 2, 3], y = [3, 2, 1])\n",
        "# Guardar el gráfico en formato png\n",
        "plt.savefig('diagrama-dispersion.png')\n",
        "# Mostrar el gráfico\n",
        "plt.show()"
      ],
      "metadata": {
        "colab": {
          "base_uri": "https://localhost:8080/",
          "height": 430
        },
        "id": "rZH_X7ZRGVB3",
        "outputId": "14b04841-bfed-4257-e517-cf36327b6f53"
      },
      "execution_count": 3,
      "outputs": [
        {
          "output_type": "display_data",
          "data": {
            "text/plain": [
              "<Figure size 640x480 with 1 Axes>"
            ],
            "image/png": "[encoded data removed]"
          },
          "metadata": {}
        }
      ]
    },
    {
      "cell_type": "markdown",
      "source": [
        "***Diagrama de Dispersion de Puntos***\n",
        "Utiliza las coordenadas cartesianas para mostrar los valores de dos variables para mostrar el conjunto de datos.​"
      ],
      "metadata": {
        "id": "sRpcSuU9IRM-"
      }
    },
    {
      "cell_type": "code",
      "source": [
        "import matplotlib.pyplot as plt\n",
        "fig, ax = plt.subplots()\n",
        "ax.plot([1, 2, 3, 4], [1, 2, 0, 0.5])\n",
        "plt.show()"
      ],
      "metadata": {
        "colab": {
          "base_uri": "https://localhost:8080/",
          "height": 430
        },
        "id": "w8eSXz7qJRhu",
        "outputId": "eeefdb0e-1d7f-4ebc-d1b1-b9c52754f58e"
      },
      "execution_count": 4,
      "outputs": [
        {
          "output_type": "display_data",
          "data": {
            "text/plain": [
              "<Figure size 640x480 with 1 Axes>"
            ],
            "image/png": "[encoded data removed]"
          },
          "metadata": {}
        }
      ]
    },
    {
      "cell_type": "markdown",
      "source": [
        "***Diagrama de Lineas***\n",
        "Permite visualizar los cambios a lo largo del rango continuo"
      ],
      "metadata": {
        "id": "Tvlk2-FTJYkw"
      }
    },
    {
      "cell_type": "code",
      "source": [
        "import matplotlib.pyplot as plt\n",
        "fig, ax = plt.subplots()\n",
        "ax.bar([1, 2, 3], [3, 2, 1])\n",
        "plt.show()"
      ],
      "metadata": {
        "colab": {
          "base_uri": "https://localhost:8080/",
          "height": 430
        },
        "id": "L-4jYXOhJp_x",
        "outputId": "45f3e640-c182-4499-8588-e13aac4402f2"
      },
      "execution_count": 5,
      "outputs": [
        {
          "output_type": "display_data",
          "data": {
            "text/plain": [
              "<Figure size 640x480 with 1 Axes>"
            ],
            "image/png": "[encoded data removed]"
          },
          "metadata": {}
        }
      ]
    },
    {
      "cell_type": "markdown",
      "source": [
        "**Diagramas de Barras Verticales**\n",
        "Son barras verticales que representan de manera proporcional la cantidad de datos obtenidos"
      ],
      "metadata": {
        "id": "PQtBoXtXJv8l"
      }
    },
    {
      "cell_type": "code",
      "source": [
        "import numpy as np\n",
        "import matplotlib.pyplot as plt\n",
        "fig, ax = plt.subplots()\n",
        "x = np.random.normal(5, 1.5, size=1000)\n",
        "ax.hist(x, np.arange(0, 11))\n",
        "plt.show()\n"
      ],
      "metadata": {
        "colab": {
          "base_uri": "https://localhost:8080/",
          "height": 430
        },
        "id": "OmDNHd9PKEyf",
        "outputId": "2690fdb2-d0a0-4f44-e7c8-d69550b602f9"
      },
      "execution_count": 6,
      "outputs": [
        {
          "output_type": "display_data",
          "data": {
            "text/plain": [
              "<Figure size 640x480 with 1 Axes>"
            ],
            "image/png": "[encoded data removed]"
          },
          "metadata": {}
        }
      ]
    },
    {
      "cell_type": "markdown",
      "source": [
        "***Histograma***\n",
        "la superficie de cada barra es proporcional a la frecuencia de los valores representados."
      ],
      "metadata": {
        "id": "FI4kLh9XKL7V"
      }
    },
    {
      "cell_type": "code",
      "source": [
        "import matplotlib.pyplot as plt\n",
        "fig, ax = plt.subplots()\n",
        "ax.pie([5, 4, 3, 2, 1])\n",
        "plt.show()"
      ],
      "metadata": {
        "colab": {
          "base_uri": "https://localhost:8080/",
          "height": 406
        },
        "id": "m3KJwGXUKTtx",
        "outputId": "9ae5a74e-1651-4dd2-98ca-7aa9015d9fe8"
      },
      "execution_count": 7,
      "outputs": [
        {
          "output_type": "display_data",
          "data": {
            "text/plain": [
              "<Figure size 640x480 with 1 Axes>"
            ],
            "image/png": "[encoded data removed]"
          },
          "metadata": {}
        }
      ]
    },
    {
      "cell_type": "markdown",
      "source": [
        "***Diagrama Circular***\n",
        "\n",
        "Tiene la forma de un disco dividido en sectores, cuyas áreas son proporcionales a los porcentajes de los distintos componentes de la población estadística."
      ],
      "metadata": {
        "id": "hXa_w6VqKlvR"
      }
    },
    {
      "cell_type": "code",
      "source": [
        "import matplotlib.pyplot as plt\n",
        "fig, ax = plt.subplots()\n",
        "ax.boxplot([1, 2, 1, 2, 3, 4, 3, 3, 5, 7])\n",
        "ax.set_title('Diagrama Caja de Bigotes', loc = \"left\", fontdict = {'fontsize':14, 'fontweight':'bold', 'color':'tab:blue'})\n",
        "plt.show()"
      ],
      "metadata": {
        "colab": {
          "base_uri": "https://localhost:8080/",
          "height": 453
        },
        "id": "EpDn9Rh_K1LE",
        "outputId": "7f69ade2-4c6a-4b18-e188-fc6d0fd38490"
      },
      "execution_count": 9,
      "outputs": [
        {
          "output_type": "display_data",
          "data": {
            "text/plain": [
              "<Figure size 640x480 with 1 Axes>"
            ],
            "image/png": "[encoded data removed]"
          },
          "metadata": {}
        }
      ]
    },
    {
      "cell_type": "markdown",
      "source": [
        "Permite mostrar visualmente grupos de datos numéricos a través de sus cuartiles.\n"
      ],
      "metadata": {
        "id": "ZTmwnNrlLWy3"
      }
    }
  ]
}